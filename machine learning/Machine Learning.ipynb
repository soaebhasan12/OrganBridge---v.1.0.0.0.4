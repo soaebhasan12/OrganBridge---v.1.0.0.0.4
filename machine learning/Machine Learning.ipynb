{
 "cells": [
  {
   "cell_type": "code",
   "execution_count": 1,
   "id": "161a045c",
   "metadata": {},
   "outputs": [
    {
     "name": "stdout",
     "output_type": "stream",
     "text": [
      "Once deleted, variables cannot be recovered. Proceed (y/[n])? n\n",
      "Nothing done.\n"
     ]
    }
   ],
   "source": [
    "%reset"
   ]
  },
  {
   "cell_type": "code",
   "execution_count": 2,
   "id": "9055db25",
   "metadata": {},
   "outputs": [],
   "source": [
    "# import libraries\n",
    "import pandas as pd\n",
    "import numpy as np\n",
    "import re\n",
    "import matplotlib.pyplot as plt\n",
    "import seaborn as sns\n",
    "\n",
    "from sklearn.neighbors import NearestNeighbors\n",
    "from scipy.sparse import csr_matrix\n",
    "\n",
    "import spacy\n",
    "from spacy.tokenizer import Tokenizer\n",
    "from spacy.lang.en import English\n",
    "\n",
    "from sklearn.feature_extraction.text import TfidfVectorizer\n",
    "from sklearn.neighbors import NearestNeighbors\n",
    "import pickle\n",
    "from sklearn.utils import shuffle\n",
    "\n",
    "from sklearn.metrics.pairwise import linear_kernel, cosine_similarity"
   ]
  },
  {
   "cell_type": "code",
   "execution_count": 19,
   "id": "ffef031a",
   "metadata": {},
   "outputs": [],
   "source": [
    "# Create a blank Tokenizer with just English\n",
    "nlp=English()\n",
    "tokenizer = Tokenizer(nlp.vocab)"
   ]
  },
  {
   "cell_type": "markdown",
   "id": "e8f4468e",
   "metadata": {},
   "source": [
    "# Preprocessing"
   ]
  },
  {
   "cell_type": "code",
   "execution_count": 85,
   "id": "6345337f",
   "metadata": {},
   "outputs": [],
   "source": [
    "# Import data\n",
    "post_data = pd.read_csv(r\"KidneyData.csv\")"
   ]
  },
  {
   "cell_type": "code",
   "execution_count": 86,
   "id": "b4feb933",
   "metadata": {},
   "outputs": [
    {
     "data": {
      "text/html": [
       "<div>\n",
       "<style scoped>\n",
       "    .dataframe tbody tr th:only-of-type {\n",
       "        vertical-align: middle;\n",
       "    }\n",
       "\n",
       "    .dataframe tbody tr th {\n",
       "        vertical-align: top;\n",
       "    }\n",
       "\n",
       "    .dataframe thead th {\n",
       "        text-align: right;\n",
       "    }\n",
       "</style>\n",
       "<table border=\"1\" class=\"dataframe\">\n",
       "  <thead>\n",
       "    <tr style=\"text-align: right;\">\n",
       "      <th></th>\n",
       "      <th>Time</th>\n",
       "      <th>Delta</th>\n",
       "      <th>Gender</th>\n",
       "      <th>Race</th>\n",
       "      <th>Age</th>\n",
       "      <th>Blood Type</th>\n",
       "      <th>PosNeg</th>\n",
       "      <th>Smoke</th>\n",
       "      <th>Drug</th>\n",
       "      <th>Alcohol</th>\n",
       "      <th>AvgSleep</th>\n",
       "      <th>City</th>\n",
       "    </tr>\n",
       "  </thead>\n",
       "  <tbody>\n",
       "    <tr>\n",
       "      <th>0</th>\n",
       "      <td>Quantity[1, \"Days\"]</td>\n",
       "      <td>alive</td>\n",
       "      <td>Boy</td>\n",
       "      <td>White</td>\n",
       "      <td>28</td>\n",
       "      <td>O</td>\n",
       "      <td>Neg</td>\n",
       "      <td>STrue</td>\n",
       "      <td>DFalse</td>\n",
       "      <td>AFalse</td>\n",
       "      <td>6</td>\n",
       "      <td>Seattle</td>\n",
       "    </tr>\n",
       "    <tr>\n",
       "      <th>1</th>\n",
       "      <td>Quantity[5, \"Days\"]</td>\n",
       "      <td>alive</td>\n",
       "      <td>Boy</td>\n",
       "      <td>Black</td>\n",
       "      <td>52</td>\n",
       "      <td>B</td>\n",
       "      <td>Pos</td>\n",
       "      <td>STrue</td>\n",
       "      <td>DTrue</td>\n",
       "      <td>ATrue</td>\n",
       "      <td>5</td>\n",
       "      <td>Seattle</td>\n",
       "    </tr>\n",
       "    <tr>\n",
       "      <th>2</th>\n",
       "      <td>Quantity[7, \"Days\"]</td>\n",
       "      <td>dead</td>\n",
       "      <td>Girl</td>\n",
       "      <td>Indigenious</td>\n",
       "      <td>63</td>\n",
       "      <td>O</td>\n",
       "      <td>Pos</td>\n",
       "      <td>SFalse</td>\n",
       "      <td>DFalse</td>\n",
       "      <td>ATrue</td>\n",
       "      <td>7</td>\n",
       "      <td>Baltimore</td>\n",
       "    </tr>\n",
       "    <tr>\n",
       "      <th>3</th>\n",
       "      <td>Quantity[9, \"Days\"]</td>\n",
       "      <td>alive</td>\n",
       "      <td>Girl</td>\n",
       "      <td>White</td>\n",
       "      <td>29</td>\n",
       "      <td>A</td>\n",
       "      <td>Neg</td>\n",
       "      <td>STrue</td>\n",
       "      <td>DTrue</td>\n",
       "      <td>ATrue</td>\n",
       "      <td>6</td>\n",
       "      <td>Atlanta</td>\n",
       "    </tr>\n",
       "    <tr>\n",
       "      <th>4</th>\n",
       "      <td>Quantity[13, \"Days\"]</td>\n",
       "      <td>alive</td>\n",
       "      <td>Girl</td>\n",
       "      <td>Indigenious</td>\n",
       "      <td>48</td>\n",
       "      <td>B</td>\n",
       "      <td>Neg</td>\n",
       "      <td>STrue</td>\n",
       "      <td>DFalse</td>\n",
       "      <td>AFalse</td>\n",
       "      <td>7</td>\n",
       "      <td>Houston</td>\n",
       "    </tr>\n",
       "  </tbody>\n",
       "</table>\n",
       "</div>"
      ],
      "text/plain": [
       "                   Time  Delta Gender         Race  Age Blood Type PosNeg  \\\n",
       "0   Quantity[1, \"Days\"]  alive    Boy        White   28          O    Neg   \n",
       "1   Quantity[5, \"Days\"]  alive    Boy        Black   52          B    Pos   \n",
       "2   Quantity[7, \"Days\"]   dead   Girl  Indigenious   63          O    Pos   \n",
       "3   Quantity[9, \"Days\"]  alive   Girl        White   29          A    Neg   \n",
       "4  Quantity[13, \"Days\"]  alive   Girl  Indigenious   48          B    Neg   \n",
       "\n",
       "    Smoke    Drug Alcohol  AvgSleep       City  \n",
       "0   STrue  DFalse  AFalse         6    Seattle  \n",
       "1   STrue   DTrue   ATrue         5    Seattle  \n",
       "2  SFalse  DFalse   ATrue         7  Baltimore  \n",
       "3   STrue   DTrue   ATrue         6    Atlanta  \n",
       "4   STrue  DFalse  AFalse         7    Houston  "
      ]
     },
     "metadata": {},
     "output_type": "display_data"
    },
    {
     "data": {
      "text/plain": [
       "(863, 12)"
      ]
     },
     "metadata": {},
     "output_type": "display_data"
    }
   ],
   "source": [
    "data = pd.DataFrame(post_data)\n",
    "display(data.head())\n",
    "display(data.shape)"
   ]
  },
  {
   "cell_type": "code",
   "execution_count": 87,
   "id": "438eab40",
   "metadata": {},
   "outputs": [],
   "source": [
    "data = data.drop(columns = ['Time'])"
   ]
  },
  {
   "cell_type": "code",
   "execution_count": 88,
   "id": "f72e9c6b",
   "metadata": {},
   "outputs": [
    {
     "data": {
      "image/png": "[encoded data removed]",
      "text/plain": [
       "<Figure size 1080x864 with 1 Axes>"
      ]
     },
     "metadata": {
      "needs_background": "light"
     },
     "output_type": "display_data"
    }
   ],
   "source": [
    "#plotting the percentage of missing values in each column\n",
    "data_length = len(data)\n",
    "data_null = (data.isnull().sum().sort_values(ascending=False)*100/len(data))\n",
    "f, ax = plt.subplots(figsize=(15, 12))\n",
    "sns.set_color_codes(\"pastel\")\n",
    "sns.set_color_codes(\"pastel\")\n",
    "ax.set(xlim=(0, 100), ylabel=\"\",\n",
    "       xlabel=\"% Missing Values\")\n",
    "sns.barplot(x=data_null.values, y=data_null.index, color=\"b\")\n",
    "sns.despine()"
   ]
  },
  {
   "cell_type": "code",
   "execution_count": 89,
   "id": "d365dc59",
   "metadata": {},
   "outputs": [
    {
     "data": {
      "text/plain": [
       "Delta         object\n",
       "Gender        object\n",
       "Race          object\n",
       "Age            int64\n",
       "Blood Type    object\n",
       "PosNeg        object\n",
       "Smoke         object\n",
       "Drug          object\n",
       "Alcohol       object\n",
       "AvgSleep       int64\n",
       "City          object\n",
       "dtype: object"
      ]
     },
     "execution_count": 89,
     "metadata": {},
     "output_type": "execute_result"
    }
   ],
   "source": [
    "data.dtypes"
   ]
  },
  {
   "cell_type": "code",
   "execution_count": 91,
   "id": "eb296a2f",
   "metadata": {},
   "outputs": [],
   "source": [
    "data = data.astype({\"Delta\": str, \"Gender\": str, \"Race\": str, \"Age\": str, \"Blood Type\": str, \"PosNeg\": str, \"Smoke\": str, \"Drug\": str, \"Alcohol\": str, \"AvgSleep\": str, \"City\": str, })"
   ]
  },
  {
   "cell_type": "code",
   "execution_count": 92,
   "id": "106fb4aa",
   "metadata": {},
   "outputs": [],
   "source": [
    "data['category'] = data['City'].str.cat(data[['Gender','Race','Age','Blood Type','PosNeg','Smoke','Drug','Alcohol','AvgSleep']], sep=',')"
   ]
  },
  {
   "cell_type": "code",
   "execution_count": 93,
   "id": "c7ced221",
   "metadata": {},
   "outputs": [
    {
     "data": {
      "text/html": [
       "<div>\n",
       "<style scoped>\n",
       "    .dataframe tbody tr th:only-of-type {\n",
       "        vertical-align: middle;\n",
       "    }\n",
       "\n",
       "    .dataframe tbody tr th {\n",
       "        vertical-align: top;\n",
       "    }\n",
       "\n",
       "    .dataframe thead th {\n",
       "        text-align: right;\n",
       "    }\n",
       "</style>\n",
       "<table border=\"1\" class=\"dataframe\">\n",
       "  <thead>\n",
       "    <tr style=\"text-align: right;\">\n",
       "      <th></th>\n",
       "      <th>Delta</th>\n",
       "      <th>Gender</th>\n",
       "      <th>Race</th>\n",
       "      <th>Age</th>\n",
       "      <th>Blood Type</th>\n",
       "      <th>PosNeg</th>\n",
       "      <th>Smoke</th>\n",
       "      <th>Drug</th>\n",
       "      <th>Alcohol</th>\n",
       "      <th>AvgSleep</th>\n",
       "      <th>City</th>\n",
       "      <th>category</th>\n",
       "    </tr>\n",
       "  </thead>\n",
       "  <tbody>\n",
       "    <tr>\n",
       "      <th>0</th>\n",
       "      <td>alive</td>\n",
       "      <td>Boy</td>\n",
       "      <td>White</td>\n",
       "      <td>28</td>\n",
       "      <td>O</td>\n",
       "      <td>Neg</td>\n",
       "      <td>STrue</td>\n",
       "      <td>DFalse</td>\n",
       "      <td>AFalse</td>\n",
       "      <td>6</td>\n",
       "      <td>Seattle</td>\n",
       "      <td>Seattle,Boy,White,28,O,Neg,STrue,DFalse,AFalse,6</td>\n",
       "    </tr>\n",
       "    <tr>\n",
       "      <th>1</th>\n",
       "      <td>alive</td>\n",
       "      <td>Boy</td>\n",
       "      <td>Black</td>\n",
       "      <td>52</td>\n",
       "      <td>B</td>\n",
       "      <td>Pos</td>\n",
       "      <td>STrue</td>\n",
       "      <td>DTrue</td>\n",
       "      <td>ATrue</td>\n",
       "      <td>5</td>\n",
       "      <td>Seattle</td>\n",
       "      <td>Seattle,Boy,Black,52,B,Pos,STrue,DTrue,ATrue,5</td>\n",
       "    </tr>\n",
       "    <tr>\n",
       "      <th>2</th>\n",
       "      <td>dead</td>\n",
       "      <td>Girl</td>\n",
       "      <td>Indigenious</td>\n",
       "      <td>63</td>\n",
       "      <td>O</td>\n",
       "      <td>Pos</td>\n",
       "      <td>SFalse</td>\n",
       "      <td>DFalse</td>\n",
       "      <td>ATrue</td>\n",
       "      <td>7</td>\n",
       "      <td>Baltimore</td>\n",
       "      <td>Baltimore,Girl,Indigenious,63,O,Pos,SFalse,DFa...</td>\n",
       "    </tr>\n",
       "    <tr>\n",
       "      <th>3</th>\n",
       "      <td>alive</td>\n",
       "      <td>Girl</td>\n",
       "      <td>White</td>\n",
       "      <td>29</td>\n",
       "      <td>A</td>\n",
       "      <td>Neg</td>\n",
       "      <td>STrue</td>\n",
       "      <td>DTrue</td>\n",
       "      <td>ATrue</td>\n",
       "      <td>6</td>\n",
       "      <td>Atlanta</td>\n",
       "      <td>Atlanta,Girl,White,29,A,Neg,STrue,DTrue,ATrue,6</td>\n",
       "    </tr>\n",
       "    <tr>\n",
       "      <th>4</th>\n",
       "      <td>alive</td>\n",
       "      <td>Girl</td>\n",
       "      <td>Indigenious</td>\n",
       "      <td>48</td>\n",
       "      <td>B</td>\n",
       "      <td>Neg</td>\n",
       "      <td>STrue</td>\n",
       "      <td>DFalse</td>\n",
       "      <td>AFalse</td>\n",
       "      <td>7</td>\n",
       "      <td>Houston</td>\n",
       "      <td>Houston,Girl,Indigenious,48,B,Neg,STrue,DFalse...</td>\n",
       "    </tr>\n",
       "  </tbody>\n",
       "</table>\n",
       "</div>"
      ],
      "text/plain": [
       "   Delta Gender         Race Age Blood Type PosNeg   Smoke    Drug Alcohol  \\\n",
       "0  alive    Boy        White  28          O    Neg   STrue  DFalse  AFalse   \n",
       "1  alive    Boy        Black  52          B    Pos   STrue   DTrue   ATrue   \n",
       "2   dead   Girl  Indigenious  63          O    Pos  SFalse  DFalse   ATrue   \n",
       "3  alive   Girl        White  29          A    Neg   STrue   DTrue   ATrue   \n",
       "4  alive   Girl  Indigenious  48          B    Neg   STrue  DFalse  AFalse   \n",
       "\n",
       "  AvgSleep       City                                           category  \n",
       "0        6    Seattle   Seattle,Boy,White,28,O,Neg,STrue,DFalse,AFalse,6  \n",
       "1        5    Seattle     Seattle,Boy,Black,52,B,Pos,STrue,DTrue,ATrue,5  \n",
       "2        7  Baltimore  Baltimore,Girl,Indigenious,63,O,Pos,SFalse,DFa...  \n",
       "3        6    Atlanta    Atlanta,Girl,White,29,A,Neg,STrue,DTrue,ATrue,6  \n",
       "4        7    Houston  Houston,Girl,Indigenious,48,B,Neg,STrue,DFalse...  "
      ]
     },
     "execution_count": 93,
     "metadata": {},
     "output_type": "execute_result"
    }
   ],
   "source": [
    "data.head()"
   ]
  },
  {
   "cell_type": "markdown",
   "id": "f62bc97f",
   "metadata": {},
   "source": [
    "# FEATURE EXTRACTION via tfidf vectorizer\n",
    "### Create a data-term matrix (vocabulary)"
   ]
  },
  {
   "cell_type": "code",
   "execution_count": 94,
   "id": "4469bb1d",
   "metadata": {},
   "outputs": [],
   "source": [
    "# Instantiate vecorizer object - call tokenize\n",
    "tf_model = TfidfVectorizer(max_features=200,max_df=0.25,min_df=0.01,stop_words='english')"
   ]
  },
  {
   "cell_type": "code",
   "execution_count": 95,
   "id": "3ac501ce",
   "metadata": {},
   "outputs": [],
   "source": [
    "# create corpus (categories) used for the TF-IDF\n",
    "corpus = data['category']"
   ]
  },
  {
   "cell_type": "code",
   "execution_count": 96,
   "id": "986474a4",
   "metadata": {},
   "outputs": [
    {
     "name": "stdout",
     "output_type": "stream",
     "text": [
      "The shape of the matrix is: (863, 66)\n"
     ]
    },
    {
     "data": {
      "text/html": [
       "<div>\n",
       "<style scoped>\n",
       "    .dataframe tbody tr th:only-of-type {\n",
       "        vertical-align: middle;\n",
       "    }\n",
       "\n",
       "    .dataframe tbody tr th {\n",
       "        vertical-align: top;\n",
       "    }\n",
       "\n",
       "    .dataframe thead th {\n",
       "        text-align: right;\n",
       "    }\n",
       "</style>\n",
       "<table border=\"1\" class=\"dataframe\">\n",
       "  <thead>\n",
       "    <tr style=\"text-align: right;\">\n",
       "      <th></th>\n",
       "      <th>10</th>\n",
       "      <th>11</th>\n",
       "      <th>19</th>\n",
       "      <th>20</th>\n",
       "      <th>21</th>\n",
       "      <th>22</th>\n",
       "      <th>23</th>\n",
       "      <th>24</th>\n",
       "      <th>25</th>\n",
       "      <th>26</th>\n",
       "      <th>...</th>\n",
       "      <th>baltimore</th>\n",
       "      <th>detroit</th>\n",
       "      <th>fransisco</th>\n",
       "      <th>houston</th>\n",
       "      <th>new</th>\n",
       "      <th>phoenix</th>\n",
       "      <th>san</th>\n",
       "      <th>seattle</th>\n",
       "      <th>white</th>\n",
       "      <th>york</th>\n",
       "    </tr>\n",
       "  </thead>\n",
       "  <tbody>\n",
       "    <tr>\n",
       "      <th>0</th>\n",
       "      <td>0.0</td>\n",
       "      <td>0.0</td>\n",
       "      <td>0.0</td>\n",
       "      <td>0.0</td>\n",
       "      <td>0.0</td>\n",
       "      <td>0.0</td>\n",
       "      <td>0.0</td>\n",
       "      <td>0.0</td>\n",
       "      <td>0.0</td>\n",
       "      <td>0.0</td>\n",
       "      <td>...</td>\n",
       "      <td>0.000000</td>\n",
       "      <td>0.0</td>\n",
       "      <td>0.0</td>\n",
       "      <td>0.000000</td>\n",
       "      <td>0.0</td>\n",
       "      <td>0.0</td>\n",
       "      <td>0.0</td>\n",
       "      <td>0.445664</td>\n",
       "      <td>0.370503</td>\n",
       "      <td>0.0</td>\n",
       "    </tr>\n",
       "    <tr>\n",
       "      <th>1</th>\n",
       "      <td>0.0</td>\n",
       "      <td>0.0</td>\n",
       "      <td>0.0</td>\n",
       "      <td>0.0</td>\n",
       "      <td>0.0</td>\n",
       "      <td>0.0</td>\n",
       "      <td>0.0</td>\n",
       "      <td>0.0</td>\n",
       "      <td>0.0</td>\n",
       "      <td>0.0</td>\n",
       "      <td>...</td>\n",
       "      <td>0.000000</td>\n",
       "      <td>0.0</td>\n",
       "      <td>0.0</td>\n",
       "      <td>0.000000</td>\n",
       "      <td>0.0</td>\n",
       "      <td>0.0</td>\n",
       "      <td>0.0</td>\n",
       "      <td>0.535496</td>\n",
       "      <td>0.000000</td>\n",
       "      <td>0.0</td>\n",
       "    </tr>\n",
       "    <tr>\n",
       "      <th>2</th>\n",
       "      <td>0.0</td>\n",
       "      <td>0.0</td>\n",
       "      <td>0.0</td>\n",
       "      <td>0.0</td>\n",
       "      <td>0.0</td>\n",
       "      <td>0.0</td>\n",
       "      <td>0.0</td>\n",
       "      <td>0.0</td>\n",
       "      <td>0.0</td>\n",
       "      <td>0.0</td>\n",
       "      <td>...</td>\n",
       "      <td>0.541565</td>\n",
       "      <td>0.0</td>\n",
       "      <td>0.0</td>\n",
       "      <td>0.000000</td>\n",
       "      <td>0.0</td>\n",
       "      <td>0.0</td>\n",
       "      <td>0.0</td>\n",
       "      <td>0.000000</td>\n",
       "      <td>0.000000</td>\n",
       "      <td>0.0</td>\n",
       "    </tr>\n",
       "    <tr>\n",
       "      <th>3</th>\n",
       "      <td>0.0</td>\n",
       "      <td>0.0</td>\n",
       "      <td>0.0</td>\n",
       "      <td>0.0</td>\n",
       "      <td>0.0</td>\n",
       "      <td>0.0</td>\n",
       "      <td>0.0</td>\n",
       "      <td>0.0</td>\n",
       "      <td>0.0</td>\n",
       "      <td>0.0</td>\n",
       "      <td>...</td>\n",
       "      <td>0.000000</td>\n",
       "      <td>0.0</td>\n",
       "      <td>0.0</td>\n",
       "      <td>0.000000</td>\n",
       "      <td>0.0</td>\n",
       "      <td>0.0</td>\n",
       "      <td>0.0</td>\n",
       "      <td>0.000000</td>\n",
       "      <td>0.382646</td>\n",
       "      <td>0.0</td>\n",
       "    </tr>\n",
       "    <tr>\n",
       "      <th>4</th>\n",
       "      <td>0.0</td>\n",
       "      <td>0.0</td>\n",
       "      <td>0.0</td>\n",
       "      <td>0.0</td>\n",
       "      <td>0.0</td>\n",
       "      <td>0.0</td>\n",
       "      <td>0.0</td>\n",
       "      <td>0.0</td>\n",
       "      <td>0.0</td>\n",
       "      <td>0.0</td>\n",
       "      <td>...</td>\n",
       "      <td>0.000000</td>\n",
       "      <td>0.0</td>\n",
       "      <td>0.0</td>\n",
       "      <td>0.541565</td>\n",
       "      <td>0.0</td>\n",
       "      <td>0.0</td>\n",
       "      <td>0.0</td>\n",
       "      <td>0.000000</td>\n",
       "      <td>0.000000</td>\n",
       "      <td>0.0</td>\n",
       "    </tr>\n",
       "  </tbody>\n",
       "</table>\n",
       "<p>5 rows × 66 columns</p>\n",
       "</div>"
      ],
      "text/plain": [
       "    10   11   19   20   21   22   23   24   25   26  ...  baltimore  detroit  \\\n",
       "0  0.0  0.0  0.0  0.0  0.0  0.0  0.0  0.0  0.0  0.0  ...   0.000000      0.0   \n",
       "1  0.0  0.0  0.0  0.0  0.0  0.0  0.0  0.0  0.0  0.0  ...   0.000000      0.0   \n",
       "2  0.0  0.0  0.0  0.0  0.0  0.0  0.0  0.0  0.0  0.0  ...   0.541565      0.0   \n",
       "3  0.0  0.0  0.0  0.0  0.0  0.0  0.0  0.0  0.0  0.0  ...   0.000000      0.0   \n",
       "4  0.0  0.0  0.0  0.0  0.0  0.0  0.0  0.0  0.0  0.0  ...   0.000000      0.0   \n",
       "\n",
       "   fransisco   houston  new  phoenix  san   seattle     white  york  \n",
       "0        0.0  0.000000  0.0      0.0  0.0  0.445664  0.370503   0.0  \n",
       "1        0.0  0.000000  0.0      0.0  0.0  0.535496  0.000000   0.0  \n",
       "2        0.0  0.000000  0.0      0.0  0.0  0.000000  0.000000   0.0  \n",
       "3        0.0  0.000000  0.0      0.0  0.0  0.000000  0.382646   0.0  \n",
       "4        0.0  0.541565  0.0      0.0  0.0  0.000000  0.000000   0.0  \n",
       "\n",
       "[5 rows x 66 columns]"
      ]
     },
     "metadata": {},
     "output_type": "display_data"
    }
   ],
   "source": [
    "tf_matrix = tf_model.fit_transform(corpus).todense()\n",
    "print('The shape of the matrix is:', tf_matrix.shape)\n",
    "tf_df = pd.DataFrame(tf_matrix)\n",
    "tf_df.columns = sorted(tf_model.vocabulary_)\n",
    "display(tf_df.head())"
   ]
  },
  {
   "cell_type": "code",
   "execution_count": 97,
   "id": "e854be38",
   "metadata": {},
   "outputs": [],
   "source": [
    "# Get cosine similarity of the matrix\n",
    "cosine_sim = cosine_similarity(tf_matrix, tf_matrix)"
   ]
  },
  {
   "cell_type": "code",
   "execution_count": 98,
   "id": "f31aae9a",
   "metadata": {},
   "outputs": [
    {
     "data": {
      "text/plain": [
       "NearestNeighbors(algorithm='ball_tree', n_neighbors=50)"
      ]
     },
     "execution_count": 98,
     "metadata": {},
     "output_type": "execute_result"
    }
   ],
   "source": [
    "# Fit on TF-IDF Vectors\n",
    "nn = NearestNeighbors(n_neighbors=50, algorithm='ball_tree')\n",
    "nn.fit(tf_matrix)"
   ]
  },
  {
   "cell_type": "code",
   "execution_count": 99,
   "id": "758c5bba",
   "metadata": {},
   "outputs": [
    {
     "name": "stdout",
     "output_type": "stream",
     "text": [
      "<class 'numpy.ndarray'>\n"
     ]
    }
   ],
   "source": [
    "print(type(cosine_sim))"
   ]
  },
  {
   "cell_type": "code",
   "execution_count": 100,
   "id": "daf4f7e7",
   "metadata": {},
   "outputs": [],
   "source": [
    "# Pickle the dtm and tf for use in the prediction\n",
    "pickle.dump(tf_matrix, open('tf_matrix.pkl', 'wb'))\n",
    "pickle.dump(tf_model, open('tf_model.pkl', 'wb'))\n",
    "np.save(\"cosine_sim.npy\", cosine_sim)"
   ]
  },
  {
   "cell_type": "markdown",
   "id": "fa4149b2",
   "metadata": {},
   "source": [
    "# Test Case"
   ]
  },
  {
   "cell_type": "code",
   "execution_count": 117,
   "id": "37f9504e",
   "metadata": {},
   "outputs": [],
   "source": [
    "# Create the test case\n",
    "ideal_category = ['AB, Neg, Seattle']\n",
    "\n",
    "new = tf_model.transform(ideal_category)\n",
    "results = nn.kneighbors(new.todense())"
   ]
  },
  {
   "cell_type": "code",
   "execution_count": 118,
   "id": "7592d384",
   "metadata": {},
   "outputs": [
    {
     "data": {
      "text/plain": [
       "(array([[0.65557555, 0.6825357 , 0.83248658, 0.83248658, 0.84381093,\n",
       "         0.85191392, 0.85615649, 0.86507644, 0.86507644, 0.87466406,\n",
       "         0.87974885, 0.88505462, 0.89060608, 0.89060608, 0.89084044,\n",
       "         0.89643262, 0.89978643, 0.90524887, 0.90580819, 0.91568637,\n",
       "         0.91872711, 0.91924455, 0.91924455, 0.92287867, 0.92683751,\n",
       "         0.930906  , 0.9429438 , 0.94326758, 0.95031354, 0.95439172,\n",
       "         0.96239557, 0.97615922, 0.981887  , 1.07375164, 1.07375164,\n",
       "         1.07375164, 1.07375164, 1.08064825, 1.0855741 , 1.0855741 ,\n",
       "         1.0855741 , 1.0855741 , 1.08815016, 1.08815016, 1.08815016,\n",
       "         1.08815016, 1.08978341, 1.09080961, 1.09080961, 1.09355943]]),\n",
       " array([[167, 777,  81, 243, 283, 397, 487, 224, 439,  17, 800, 302, 382,\n",
       "         821, 417, 610, 186, 718, 204, 267, 406, 498, 144, 599, 270, 479,\n",
       "          47, 330,  38,  56, 451, 683, 733, 836, 663, 227, 520, 190,   1,\n",
       "         681,  68, 797, 763, 638, 328, 294, 542, 365, 452,  64]],\n",
       "       dtype=int64))"
      ]
     },
     "execution_count": 118,
     "metadata": {},
     "output_type": "execute_result"
    }
   ],
   "source": [
    "results"
   ]
  },
  {
   "cell_type": "code",
   "execution_count": 116,
   "id": "efd44900",
   "metadata": {},
   "outputs": [
    {
     "data": {
      "text/plain": [
       "'Seattle,Boy,Black,32,AB,Neg,SFalse,DFalse,AFalse,7'"
      ]
     },
     "execution_count": 116,
     "metadata": {},
     "output_type": "execute_result"
    }
   ],
   "source": [
    "# displays the category of the first value of the first array \n",
    "data['category'][results[1][0][1]]"
   ]
  },
  {
   "cell_type": "code",
   "execution_count": 119,
   "id": "d9a56cdc",
   "metadata": {},
   "outputs": [],
   "source": [
    "def give_recommended_TF(ideal_categories):\n",
    "    ideal_category = [ideal_categories]\n",
    "    new = tf_model.transform(ideal_category)\n",
    "    results = nn.kneighbors(new.todense())\n",
    "    display(data['category'][results[1][0][0]])"
   ]
  },
  {
   "cell_type": "code",
   "execution_count": 121,
   "id": "774cbdc6",
   "metadata": {},
   "outputs": [
    {
     "data": {
      "text/plain": [
       "'New York,Girl,Black,58,A,Pos,SFalse,DTrue,AFalse,7'"
      ]
     },
     "metadata": {},
     "output_type": "display_data"
    }
   ],
   "source": [
    "give_recommended_TF('Girl,New York,AFalse')"
   ]
  }
 ],
 "metadata": {
  "kernelspec": {
   "display_name": "Python 3",
   "language": "python",
   "name": "python3"
  },
  "language_info": {
   "codemirror_mode": {
    "name": "ipython",
    "version": 3
   },
   "file_extension": ".py",
   "mimetype": "text/x-python",
   "name": "python",
   "nbconvert_exporter": "python",
   "pygments_lexer": "ipython3",
   "version": "3.8.8"
  }
 },
 "nbformat": 4,
 "nbformat_minor": 5
}
